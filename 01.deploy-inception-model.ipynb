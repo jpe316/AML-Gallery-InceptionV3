{
  "cells": [
    {
      "metadata": {},
      "cell_type": "markdown",
      "source": "Copyright (c) Microsoft Corporation. All rights reserved.\n\nLicensed under the MIT License."
    },
    {
      "metadata": {},
      "cell_type": "markdown",
      "source": "## Prototype: Deploy Inception Model \n\nPrototype for Gallery scenario"
    },
    {
      "metadata": {},
      "cell_type": "markdown",
      "source": "### Login \n\n\"!az login\" or Data --> Connect to Azure"
    },
    {
      "metadata": {
        "trusted": true,
        "scrolled": true
      },
      "cell_type": "code",
      "source": "!az account show",
      "execution_count": 1,
      "outputs": [
        {
          "output_type": "stream",
          "text": "{\r\n  \"environmentName\": \"AzureCloud\",\r\n  \"id\": \"1baa1f3f-9b61-4f60-9da8-3a76ba416716\",\r\n  \"isDefault\": true,\r\n  \"name\": \"MSI\",\r\n  \"state\": \"Enabled\",\r\n  \"tenantId\": \"72f988bf-86f1-41af-91ab-2d7cd011db47\",\r\n  \"user\": {\r\n    \"name\": \"systemAssignedIdentity\",\r\n    \"type\": \"servicePrincipal\"\r\n  }\r\n}\r\n",
          "name": "stdout"
        }
      ]
    },
    {
      "metadata": {},
      "cell_type": "markdown",
      "source": "### Load AML Workspace"
    },
    {
      "metadata": {
        "trusted": true
      },
      "cell_type": "code",
      "source": "from azureml.core import Workspace\nws = Workspace.from_config()\nprint(ws.name, ws.subscription_id, ws.resource_group, ws.location)",
      "execution_count": 2,
      "outputs": [
        {
          "output_type": "stream",
          "text": "Found the config file in: /home/nbuser/library/config.json\nGalleryTestWorkSpace bc69d98c-7d2b-4542-88a4-f86eb4aea4a5 USEastGroup_AX eastus2\n",
          "name": "stdout"
        }
      ]
    },
    {
      "metadata": {},
      "cell_type": "markdown",
      "source": "### Register InceptionV3 Models to MMS\n\nIt contains multiple models"
    },
    {
      "metadata": {
        "trusted": true
      },
      "cell_type": "code",
      "source": "from azureml.core.model import Model\n\nmodels = []\n\nnew_model = Model.register(\n    workspace = ws,\n    model_path = \"model/classify_image_graph_def.pb\",\n    model_name = \"classify_image_graph_def\")\nmodels.append(new_model)\n\nprint(\"Model id={}, name={}, created time={}\".format(\n    new_model.id, \n    new_model.name, \n    new_model.created_time))",
      "execution_count": 3,
      "outputs": [
        {
          "output_type": "stream",
          "text": "Registering model classify_image_graph_def\nModel id=classify_image_graph_def:7, name=classify_image_graph_def, created time=2018-10-11 23:24:54.322744+00:00\n",
          "name": "stdout"
        }
      ]
    },
    {
      "metadata": {
        "trusted": true
      },
      "cell_type": "code",
      "source": "new_model = Model.register(\n    workspace = ws,\n    model_path = \"model/imagenet_2012_challenge_label_map_proto.pbtxt\",\n    model_name = \"imagenet_label_map\")\nmodels.append(new_model)\n\nprint(\"Model id={}, name={}, created time={}\".format(\n    new_model.id, \n    new_model.name, \n    new_model.created_time))",
      "execution_count": 4,
      "outputs": [
        {
          "output_type": "stream",
          "text": "Registering model imagenet_label_map\nModel id=imagenet_label_map:6, name=imagenet_label_map, created time=2018-10-11 23:24:56.563854+00:00\n",
          "name": "stdout"
        }
      ]
    },
    {
      "metadata": {
        "trusted": true
      },
      "cell_type": "code",
      "source": "new_model = Model.register(\n    workspace = ws,\n    model_path = \"model/imagenet_synset_to_human_label_map.txt\",\n    model_name = \"imagenet_s2h_label_map\")\nmodels.append(new_model)\n\nprint(\"Model id={}, name={}, created time={}\".format(\n    new_model.id, \n    new_model.name, \n    new_model.created_time))",
      "execution_count": 5,
      "outputs": [
        {
          "output_type": "stream",
          "text": "Registering model imagenet_s2h_label_map\nModel id=imagenet_s2h_label_map:6, name=imagenet_s2h_label_map, created time=2018-10-11 23:25:04.630631+00:00\n",
          "name": "stdout"
        }
      ]
    },
    {
      "metadata": {},
      "cell_type": "markdown",
      "source": "### Build Container Image "
    },
    {
      "metadata": {
        "trusted": true
      },
      "cell_type": "code",
      "source": "import time\nfrom azureml.core.image import Image, ContainerImage\n\nimage_config = ContainerImage.image_configuration(\n    execution_script = \"score.py\",\n    runtime = \"python\", \n    dependencies = [\"app.py\", \"ui.html\", \"inception.py\"],\n    conda_file = \"env.yml\")\n\nstart = time.time()\nimage = Image.create(\n    workspace = ws,\n    name = \"inception-v3-demo-image\",\n    models = models,\n    image_config = image_config\n)\n\nimage.wait_for_creation(show_output = True)\n\nend = time.time()\nprint(\"Image creation latency: {} seconds\".format(end-start))\nprint(image)",
      "execution_count": 6,
      "outputs": [
        {
          "output_type": "stream",
          "text": "Creating image\nRunning.............................\nSucceededImage creation operation finished for image inception-v3-demo-image:11, operation \"Succeeded\"\nImage creation latency: 200.38700032234192 seconds\nContainerImage(workspace=<azureml.core.workspace.Workspace object at 0x7f7abd2449b0>, name=inception-v3-demo-image, id=inception-v3-demo-image:11, tags={}, properties={}, version=11)\n",
          "name": "stdout"
        }
      ]
    },
    {
      "metadata": {},
      "cell_type": "markdown",
      "source": "### Deploy Image to ACI"
    },
    {
      "metadata": {
        "trusted": true
      },
      "cell_type": "code",
      "source": "from azureml.core.webservice import AciWebservice, Webservice\n\naci_config = AciWebservice.deploy_configuration(cpu_cores = 1, memory_gb = 1)\n\nstart = time.time()\naci_service = Webservice.deploy_from_image(\n    workspace = ws,\n    name = \"inception-v3-demo-service\",\n    image = image,\n    deployment_config = aci_config)\naci_service.wait_for_deployment(show_output = True)\n\nend = time.time()\nprint(\"Service deployment latency: {} seconds\".format(end-start))",
      "execution_count": 7,
      "outputs": [
        {
          "output_type": "stream",
          "text": "Creating service\nRunning........................................\nSucceededACI service creation operation finished, operation \"Succeeded\"\nService deployment latency: 242.53498077392578 seconds\n",
          "name": "stdout"
        }
      ]
    },
    {
      "metadata": {},
      "cell_type": "markdown",
      "source": "### Run Inference\n\n*TODO*: Make it UX friendly via either run a script with sample data or let us consume the UI page\n"
    },
    {
      "metadata": {
        "trusted": true
      },
      "cell_type": "code",
      "source": "# Get demo URL \ndemo_uri = aci_service.scoring_uri.replace(\"/score\", \"/ui\")\nprint(\"Try out the inceptionv2 model at {}\".format(demo_uri))",
      "execution_count": 8,
      "outputs": [
        {
          "output_type": "stream",
          "text": "Try out the inceptionv2 model at http://104.45.148.156:80/ui\n",
          "name": "stdout"
        }
      ]
    },
    {
      "metadata": {},
      "cell_type": "markdown",
      "source": "### Cleanup Resources\n\nDelete the web serivce, image, and models"
    },
    {
      "metadata": {
        "trusted": true
      },
      "cell_type": "code",
      "source": "aci_service.delete()\nimage.delete()\nfor m in models:\n    m.delete()\nprint(\"Successfully deleted models, image and service.\")",
      "execution_count": 9,
      "outputs": [
        {
          "output_type": "stream",
          "text": "Successfully deleted models, image and service.\n",
          "name": "stdout"
        }
      ]
    },
    {
      "metadata": {
        "trusted": true
      },
      "cell_type": "code",
      "source": "",
      "execution_count": null,
      "outputs": []
    }
  ],
  "metadata": {
    "kernelspec": {
      "name": "python36",
      "display_name": "Python 3.6",
      "language": "python"
    },
    "language_info": {
      "mimetype": "text/x-python",
      "nbconvert_exporter": "python",
      "name": "python",
      "pygments_lexer": "ipython3",
      "version": "3.6.6",
      "file_extension": ".py",
      "codemirror_mode": {
        "version": 3,
        "name": "ipython"
      }
    }
  },
  "nbformat": 4,
  "nbformat_minor": 2
}